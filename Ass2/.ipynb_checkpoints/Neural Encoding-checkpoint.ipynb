{
 "cells": [
  {
   "cell_type": "markdown",
   "metadata": {},
   "source": [
    "##Preamble:\n",
    "Load seaborn for pretty plots"
   ]
  },
  {
   "cell_type": "code",
   "execution_count": null,
   "metadata": {
    "collapsed": false
   },
   "outputs": [],
   "source": [
    "from __future__ import division\n",
    "import numpy as np\n",
    "import matplotlib.pyplot as plt\n",
    "import pickle\n",
    "import seaborn as sns\n",
    "\n",
    "%matplotlib inline\n",
    "sns.set_palette('muted')\n",
    "sns.set_style('darkgrid')"
   ]
  },
  {
   "cell_type": "markdown",
   "metadata": {},
   "source": [
    "##Load the data:\n",
    "stim is a 60000-element array containing the stimulus time-series. Similarly, rho is a 60000-element binary array denoting whether or not a spike was recorded in that time bin. The sampling rate for this experiment was 500Hz, i.e. 2ms sampling period.  "
   ]
  },
  {
   "cell_type": "code",
   "execution_count": null,
   "metadata": {
    "collapsed": true
   },
   "outputs": [],
   "source": [
    "FILENAME = 'c1p8.pickle'\n",
    "\n",
    "with open(FILENAME, 'rb') as f:\n",
    "    data = pickle.load(f)\n",
    "    \n",
    "stim = data['stim']\n",
    "rho = data['rho']"
   ]
  },
  {
   "cell_type": "markdown",
   "metadata": {},
   "source": [
    "##Let's look at the data:\n",
    "It's always good to look at the data to see what we're dealing with. Let's plot the first 100 elements of each timeseries."
   ]
  },
  {
   "cell_type": "code",
   "execution_count": null,
   "metadata": {
    "collapsed": false
   },
   "outputs": [],
   "source": [
    "f, (ax1, ax2) = plt.subplots(2, 1, sharex=True)\n",
    "\n",
    "time = np.arange(0,100) * 2\n",
    "\n",
    "# ax1.plot(time,rho[time])\n",
    "spikes=time[rho[time].astype(bool)]\n",
    "ax1.vlines(spikes,0,1,color='r')\n",
    "ax1.set_ylabel('Binary response')\n",
    "ax1.set_yticklabels([])\n",
    "ax1.set_title('Spikes')\n",
    "\n",
    "\n",
    "ax2.plot(time,stim[time])\n",
    "ax2.set_xlabel('Time (ms)')\n",
    "ax2.set_ylabel('Amplitude (arb)')\n",
    "ax2.set_title('Stimulus')\n",
    "f.tight_layout()"
   ]
  },
  {
   "cell_type": "markdown",
   "metadata": {},
   "source": [
    "##Function to compute spike triggered average\n",
    "The spike triggered average is the average stimulus preceding the response of a neuron. Here we will look at the 300ms window preceeding each spike of the neuron and take the average of all computed windows. "
   ]
  },
  {
   "cell_type": "code",
   "execution_count": null,
   "metadata": {
    "collapsed": false
   },
   "outputs": [],
   "source": [
    "def compute_sta(stim, rho, num_timesteps):\n",
    "    \"\"\"Compute the spike-triggered average from a stimulus and spike-train.\n",
    "    \n",
    "    Args:\n",
    "        stim: stimulus time-series\n",
    "        rho: spike-train time-series\n",
    "        num_timesteps: how many timesteps to use in STA\n",
    "        \n",
    "    Returns:\n",
    "        spike-triggered average for specified number of timesteps before spike\"\"\"\n",
    "    \n",
    "    sta = np.zeros((num_timesteps,))\n",
    "\n",
    "    # This command finds the indices of all of the spikes that occur\n",
    "    # after 300 ms into the recording.\n",
    "    spike_times = rho[num_timesteps:].nonzero()[0] + num_timesteps\n",
    "\n",
    "    # Fill in this value. Note that you should not count spikes that occur\n",
    "    # before 300 ms into the recording.\n",
    "    num_spikes = np.sum(rho[spike_times])\n",
    "    \n",
    "    print \"Number of spikes is \" + repr(num_spikes)\n",
    "    # Compute the spike-triggered average of the spikes found.\n",
    "    # To do this, compute the average of all of the vectors\n",
    "    # starting 300 ms (exclusive) before a spike and ending at the time of\n",
    "    # the event (inclusive). Each of these vectors defines a list of\n",
    "    # samples that is contained within a window of 300 ms before each\n",
    "    # spike. The average of these vectors should be completed in an\n",
    "    # element-wise manner.\n",
    "    \n",
    "    for iter in xrange(num_spikes): #iterate through each spike\n",
    "        current_time = spike_times[iter] #find current time of this spike\n",
    "        # create 300ms (150 time step) window preceding spike\n",
    "        window_range = np.arange(current_time-num_timesteps,current_time)\n",
    "        temp=stim[window_range] #take the stimulus preceding the spike with our defined window\n",
    "        sta+=temp #add it to sta\n",
    "        \n",
    "    sta/=num_spikes #divide by total number of spikes to average\n",
    "    return sta"
   ]
  },
  {
   "cell_type": "markdown",
   "metadata": {},
   "source": [
    "##Compute the STA:\n",
    "Call the above-defined function to compute the spike triggered average. "
   ]
  },
  {
   "cell_type": "code",
   "execution_count": null,
   "metadata": {
    "collapsed": false
   },
   "outputs": [],
   "source": [
    "# Fill in these values\n",
    "sampling_period = 2 # in ms\n",
    "num_timesteps = 150 # we want 300 ms window, so this means 150 time steps * 2ms\n",
    "\n",
    "sta = compute_sta(stim, rho, num_timesteps)\n",
    "\n",
    "time = (np.arange(-num_timesteps, 0) + 1) * sampling_period\n",
    "\n",
    "sns.plt.plot(time, sta)\n",
    "plt.xlabel('Time (ms)')\n",
    "plt.ylabel('Stimulus')\n",
    "plt.title('Spike-Triggered Average')"
   ]
  },
  {
   "cell_type": "markdown",
   "metadata": {},
   "source": [
    "The computed spike triggered average shows that the recorded cell is a leaky integrate-and-fire neuron. The stimulus value at the time step immediately prior to the spike (plus some small temporal latency) has the highest weight, whereas the weights before that decay as we move farther from spike onset. We also note that the stimulus is always positive. \n"
   ]
  }
 ],
 "metadata": {
  "kernelspec": {
   "display_name": "Python 2",
   "language": "python",
   "name": "python2"
  },
  "language_info": {
   "codemirror_mode": {
    "name": "ipython",
    "version": 2
   },
   "file_extension": ".py",
   "mimetype": "text/x-python",
   "name": "python",
   "nbconvert_exporter": "python",
   "pygments_lexer": "ipython2",
   "version": "2.7.9"
  }
 },
 "nbformat": 4,
 "nbformat_minor": 0
}
